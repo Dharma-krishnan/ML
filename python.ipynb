{
  "nbformat": 4,
  "nbformat_minor": 0,
  "metadata": {
    "colab": {
      "provenance": [],
      "authorship_tag": "ABX9TyPRh3gtptJEFywqh7X4ep9b",
      "include_colab_link": true
    },
    "kernelspec": {
      "name": "python3",
      "display_name": "Python 3"
    },
    "language_info": {
      "name": "python"
    }
  },
  "cells": [
    {
      "cell_type": "markdown",
      "metadata": {
        "id": "view-in-github",
        "colab_type": "text"
      },
      "source": [
        "<a href=\"https://colab.research.google.com/github/Dharma-krishnan/ml/blob/main/python.ipynb\" target=\"_parent\"><img src=\"https://colab.research.google.com/assets/colab-badge.svg\" alt=\"Open In Colab\"/></a>"
      ]
    },
    {
      "cell_type": "code",
      "execution_count": null,
      "metadata": {
        "colab": {
          "base_uri": "https://localhost:8080/"
        },
        "id": "p8MmMtzNws5A",
        "outputId": "fdc6023d-35f7-4be6-f03b-649bd1c007e5"
      },
      "outputs": [
        {
          "output_type": "stream",
          "name": "stdout",
          "text": [
            "hello, need to uniQ\n"
          ]
        }
      ],
      "source": [
        "print(\"hello, need to uniQ\")\n",
        "#  !-is used to install pip packages\n",
        "#developed by guido van rossum in 1991 from monty python circus comic\n"
      ]
    },
    {
      "cell_type": "code",
      "source": [
        "name= input(\"enter your name: \")\n",
        "age=int(input(\"enter your age: \"))\n",
        "print(\"hii, \"+name+\" is your age \"+str(age)) \"\n",
        "print(type(age))\n",
        "\n"
      ],
      "metadata": {
        "colab": {
          "base_uri": "https://localhost:8080/"
        },
        "id": "ATu2vOLMxpNW",
        "outputId": "bd52524f-6816-4faa-f71a-27480b03030e"
      },
      "execution_count": null,
      "outputs": [
        {
          "output_type": "stream",
          "name": "stdout",
          "text": [
            "enter your name: dfsf\n",
            "enter your age: 3321\n",
            "hii, dfsf is your age 3321\n",
            "<class 'int'>\n"
          ]
        }
      ]
    },
    {
      "cell_type": "code",
      "source": [
        "import sys\n",
        "a=43\n",
        "b=2387.08321\n",
        "c=True\n",
        "print(sys.getsizeof(a))\n",
        "print(sys.getsizeof(b))\n",
        "print(sys.getsizeof(c))"
      ],
      "metadata": {
        "id": "6a0R6YzFzdlY",
        "colab": {
          "base_uri": "https://localhost:8080/"
        },
        "outputId": "7dec9ec4-78f5-45ea-cdee-0cb3636b5705"
      },
      "execution_count": null,
      "outputs": [
        {
          "output_type": "stream",
          "name": "stdout",
          "text": [
            "28\n",
            "24\n",
            "28\n"
          ]
        }
      ]
    },
    {
      "cell_type": "code",
      "source": [
        "print(4**3) #exponential\n",
        "print(9//2) #floor division\n",
        "\n",
        "a=9/3 #it give float value\n",
        "b=9//3#it gives int value\n",
        "print(type(a))\n",
        "print(type(b))"
      ],
      "metadata": {
        "colab": {
          "base_uri": "https://localhost:8080/"
        },
        "id": "b_3mflmabuy0",
        "outputId": "517c6ceb-1026-4938-d4ca-ada2db2623a9"
      },
      "execution_count": null,
      "outputs": [
        {
          "output_type": "stream",
          "name": "stdout",
          "text": [
            "64\n",
            "4\n",
            "<class 'float'>\n",
            "<class 'int'>\n"
          ]
        }
      ]
    },
    {
      "cell_type": "markdown",
      "source": [
        "## **Math Functions**"
      ],
      "metadata": {
        "id": "G9jWg_8DfARX"
      }
    },
    {
      "cell_type": "code",
      "source": [
        "import math\n",
        "print(round(3.5))\n",
        "print(math.ceil(23.986))\n",
        "print(\"abs: \",abs(-220))\n"
      ],
      "metadata": {
        "id": "ZRe2jqz9d5qK"
      },
      "execution_count": null,
      "outputs": []
    },
    {
      "cell_type": "code",
      "source": [
        "print(bin(10)) #BINARY REPRESENTATION FOR THE GIVEN INTEGER\n",
        "print(int('0b1010',2))  #again coverting binary to integer"
      ],
      "metadata": {
        "id": "K4lOW2TJnx_9"
      },
      "execution_count": null,
      "outputs": []
    },
    {
      "cell_type": "markdown",
      "source": [
        "## **STRING**"
      ],
      "metadata": {
        "id": "vDa9_bWvhWFt"
      }
    },
    {
      "cell_type": "code",
      "source": [
        "print(type(\"hii,i'm dharma\"))\n",
        "long_str='''\n",
        "           helo this is a big paragraph\n",
        "'''\n",
        "print(long_str)"
      ],
      "metadata": {
        "colab": {
          "base_uri": "https://localhost:8080/"
        },
        "id": "woIkBIAUhVTH",
        "outputId": "ed4e3e50-69ae-475c-916e-6fe14e015fa0"
      },
      "execution_count": 16,
      "outputs": [
        {
          "output_type": "stream",
          "name": "stdout",
          "text": [
            "<class 'str'>\n",
            "\n",
            "           helo this is a big paragraph \n",
            "\n"
          ]
        }
      ]
    },
    {
      "cell_type": "code",
      "source": [
        "first_name=\"dharma\"\n",
        "second_name=\"krishnan\"\n",
        "full_name=first_name + second_name\n",
        "print(full_name)"
      ],
      "metadata": {
        "colab": {
          "base_uri": "https://localhost:8080/"
        },
        "id": "B8tBMmgfp_b_",
        "outputId": "8b95f39d-b554-4966-8b22-6d48ee574f5f"
      },
      "execution_count": 17,
      "outputs": [
        {
          "output_type": "stream",
          "name": "stdout",
          "text": [
            "dharmakrishnan\n"
          ]
        }
      ]
    },
    {
      "cell_type": "markdown",
      "source": [
        "## Type Conversion"
      ],
      "metadata": {
        "id": "2cdnFzJ9jXo0"
      }
    },
    {
      "cell_type": "code",
      "source": [
        "a=str(100)\n",
        "print(type(a))\n",
        "b=int(a)\n",
        "print(type(b))"
      ],
      "metadata": {
        "colab": {
          "base_uri": "https://localhost:8080/"
        },
        "id": "5MrLR1zejU1H",
        "outputId": "059a4ff3-b5b2-4f33-8bbc-7faf0c4bd102"
      },
      "execution_count": 18,
      "outputs": [
        {
          "output_type": "stream",
          "name": "stdout",
          "text": [
            "<class 'str'>\n",
            "<class 'int'>\n"
          ]
        }
      ]
    },
    {
      "cell_type": "code",
      "source": [
        "# Escape sequence\n",
        "weather ='it\\'s sunny \\n going to be\\'a good sunshine.'\n",
        "print(weather)\n",
        "\n",
        "esc=\"it\\'s \\\"Kind of\\\" sunshine\"\n",
        "print(esc)"
      ],
      "metadata": {
        "colab": {
          "base_uri": "https://localhost:8080/"
        },
        "id": "IOiGitubkZDe",
        "outputId": "7333742d-b046-480a-b44f-0eb289872127"
      },
      "execution_count": 26,
      "outputs": [
        {
          "output_type": "stream",
          "name": "stdout",
          "text": [
            "it's sunny \n",
            " going to be'a good sunshine.\n",
            "it's \"Kind of\" sunshine\n"
          ]
        }
      ]
    },
    {
      "cell_type": "markdown",
      "source": [
        "##Formatted Strings"
      ],
      "metadata": {
        "id": "M694ugEAo-6z"
      }
    },
    {
      "cell_type": "code",
      "source": [
        "name = \"daniel\"\n",
        "print(f'hii you {}',name)"
      ],
      "metadata": {
        "colab": {
          "base_uri": "https://localhost:8080/",
          "height": 145
        },
        "id": "JF1qDWmAn6pp",
        "outputId": "497a34aa-6d88-473e-d1d2-c0a088daa8f6"
      },
      "execution_count": 29,
      "outputs": [
        {
          "output_type": "error",
          "ename": "SyntaxError",
          "evalue": "ignored",
          "traceback": [
            "\u001b[0;36m  File \u001b[0;32m\"<ipython-input-29-9cd9c1aead96>\"\u001b[0;36m, line \u001b[0;32m2\u001b[0m\n\u001b[0;31m    print(f'hii you {}',name)\u001b[0m\n\u001b[0m                       ^\u001b[0m\n\u001b[0;31mSyntaxError\u001b[0m\u001b[0;31m:\u001b[0m f-string: empty expression not allowed\n"
          ]
        }
      ]
    }
  ]
}